{
 "cells": [
  {
   "cell_type": "markdown",
   "metadata": {},
   "source": [
    "# Tutorial: Scraping web pages using requests and scrapy\n",
    "\n",
    "In this tutorial, we will be using the `scrapy` library, specifically scrapy's XPath based `Selector` objects, to extract the required data from a particular webpage.\n",
    "\n",
    "1. HTML (Hypertext Markup Language): HTML is the standard markup language for documents designed to be displayed in a web browser. When we want to scrape the content from a particular website, we are often given a html file.\n",
    "\n",
    "\n",
    "2. XPath: XPath is an expression language designed to support the query or transformation of XML documents. This works with HTML documents too. "
   ]
  },
  {
   "cell_type": "code",
   "execution_count": 1,
   "metadata": {},
   "outputs": [],
   "source": [
    "from scrapy import Selector\n",
    "import requests\n",
    "\n",
    "import pandas as pd\n",
    "import re\n",
    "from typing import List"
   ]
  },
  {
   "cell_type": "markdown",
   "metadata": {},
   "source": [
    "## Case study 1. Scraping tables from a wikipedia page"
   ]
  },
  {
   "cell_type": "code",
   "execution_count": 2,
   "metadata": {},
   "outputs": [
    {
     "data": {
      "text/plain": [
       "200"
      ]
     },
     "execution_count": 2,
     "metadata": {},
     "output_type": "execute_result"
    }
   ],
   "source": [
    "url1 = 'https://en.wikipedia.org/wiki/World_population'\n",
    "response = requests.get(url1)\n",
    "response.status_code"
   ]
  },
  {
   "cell_type": "code",
   "execution_count": 3,
   "metadata": {},
   "outputs": [
    {
     "data": {
      "text/plain": [
       "b'<!DOCTYPE html>\\n<html class=\"c'"
      ]
     },
     "execution_count": 3,
     "metadata": {},
     "output_type": "execute_result"
    }
   ],
   "source": [
    "# get the HTML file as a string\n",
    "html_content = response.content\n",
    "html_content[:30]"
   ]
  },
  {
   "cell_type": "code",
   "execution_count": 4,
   "metadata": {},
   "outputs": [
    {
     "data": {
      "text/plain": [
       "<Selector query=None data='<html class=\"client-nojs vector-featu...'>"
      ]
     },
     "execution_count": 4,
     "metadata": {},
     "output_type": "execute_result"
    }
   ],
   "source": [
    "# create a selector object\n",
    "full_sel = Selector(text=html_content)\n",
    "full_sel"
   ]
  },
  {
   "cell_type": "markdown",
   "metadata": {},
   "source": [
    "The `.xpath` method for a selector object can be used to query the elements within the `Selector`. It outputs a  `SelectorList` object - list of `Selector` objects that match the query.  \n",
    "\n",
    "\n",
    "`SelectorList` extends a regular list with a few additional methods for `xpath` querying and extracting information."
   ]
  },
  {
   "cell_type": "code",
   "execution_count": 5,
   "metadata": {},
   "outputs": [
    {
     "name": "stdout",
     "output_type": "stream",
     "text": [
      "Type: <class 'scrapy.selector.unified.SelectorList'>\n",
      "Number of tables: 28\n",
      "\n",
      "Selectors for first four tables:\n",
      "<Selector query='//table' data='<table class=\"wikitable\" style=\"text-...'>\n",
      "<Selector query='//table' data='<table class=\"box-Notice plainlinks m...'>\n",
      "<Selector query='//table' data='<table class=\"wikitable sortable\">\\n<c...'>\n",
      "<Selector query='//table' data='<table class=\"wikitable sortable\">\\n\\n<...'>\n"
     ]
    }
   ],
   "source": [
    "# select all tables in page -> returns a SelectorList object\n",
    "tables = full_sel.xpath('//table')\n",
    "\n",
    "print(f'Type: {type(tables)}')\n",
    "print(f'Number of tables: {len(tables)}')\n",
    "print('\\nSelectors for first four tables:')\n",
    "for table in tables[:4]:\n",
    "    print(table)"
   ]
  },
  {
   "cell_type": "code",
   "execution_count": 6,
   "metadata": {},
   "outputs": [
    {
     "name": "stdout",
     "output_type": "stream",
     "text": [
      "Attribute for Table 1: \n",
      "{'class': 'wikitable', 'style': 'text-align:center; float:right; clear:right; margin-left:8px; margin-right:0;'}\n",
      "Attribute for Table 2: \n",
      "{'class': 'box-Notice plainlinks metadata ambox ambox-notice', 'role': 'presentation', 'style': 'width:100%;margin:0;'}\n",
      "Attribute for Table 3: \n",
      "{'class': 'wikitable sortable'}\n",
      "Attribute for Table 4: \n",
      "{'class': 'wikitable sortable'}\n"
     ]
    }
   ],
   "source": [
    "# Attributes of first 4 tables\n",
    "for i,table in enumerate(tables[:4]):\n",
    "    print(f'Attribute for Table {i+1}: \\n{table.attrib}')"
   ]
  },
  {
   "cell_type": "markdown",
   "metadata": {},
   "source": [
    "Subset only tables with class \"wikitable\". (Exact match)"
   ]
  },
  {
   "cell_type": "code",
   "execution_count": 7,
   "metadata": {},
   "outputs": [
    {
     "name": "stdout",
     "output_type": "stream",
     "text": [
      "Number of tables: 7\n",
      "\n",
      "First four tables:\n",
      "<Selector query='//table[@class=\"wikitable\"]' data='<table class=\"wikitable\" style=\"text-...'>\n",
      "<Selector query='//table[@class=\"wikitable\"]' data='<table class=\"wikitable\" style=\"font-...'>\n",
      "<Selector query='//table[@class=\"wikitable\"]' data='<table class=\"wikitable\" style=\"text-...'>\n",
      "<Selector query='//table[@class=\"wikitable\"]' data='<table class=\"wikitable\" style=\"text-...'>\n"
     ]
    }
   ],
   "source": [
    "wikitables_exact = full_sel.xpath('//table[@class=\"wikitable\"]')\n",
    "\n",
    "print(f'Number of tables: {len(wikitables_exact)}')\n",
    "\n",
    "print('\\nFirst four tables:')\n",
    "for table in wikitables_exact[:4]:\n",
    "    print(table)"
   ]
  },
  {
   "cell_type": "markdown",
   "metadata": {},
   "source": [
    "Subset all tables whose class attribute contains \"wikitable\""
   ]
  },
  {
   "cell_type": "code",
   "execution_count": 8,
   "metadata": {},
   "outputs": [
    {
     "name": "stdout",
     "output_type": "stream",
     "text": [
      "Number of tables: 14\n",
      "\n",
      "First four tables:\n",
      "<Selector query='//table[contains(@class,\"wikitable\")]' data='<table class=\"wikitable\" style=\"text-...'>\n",
      "<Selector query='//table[contains(@class,\"wikitable\")]' data='<table class=\"wikitable sortable\">\\n<c...'>\n",
      "<Selector query='//table[contains(@class,\"wikitable\")]' data='<table class=\"wikitable sortable\">\\n\\n<...'>\n",
      "<Selector query='//table[contains(@class,\"wikitable\")]' data='<table class=\"wikitable\" style=\"font-...'>\n"
     ]
    }
   ],
   "source": [
    "wikitables = full_sel.xpath('//table[contains(@class,\"wikitable\")]')\n",
    "print(f'Number of tables: {len(wikitables)}')\n",
    "\n",
    "print('\\nFirst four tables:')\n",
    "for table in wikitables[:4]:\n",
    "    print(table)"
   ]
  },
  {
   "cell_type": "markdown",
   "metadata": {},
   "source": [
    "### Extracting data from a table\n",
    "\n",
    "Let's looks the second table in the list `wikitables`. This table containts the 2020 estimates of the population by region.\n",
    "\n",
    "The `extract` method returns the corresponding HTML code as a string"
   ]
  },
  {
   "cell_type": "code",
   "execution_count": 9,
   "metadata": {
    "scrolled": true
   },
   "outputs": [
    {
     "name": "stdout",
     "output_type": "stream",
     "text": [
      "<table class=\"wikitable sortable\">\n",
      "<caption>Population by region (2020 estimates)\n",
      "</caption>\n",
      "<tbody><tr>\n",
      "<th scope=\"col\">Region\n",
      "</th>\n",
      "<th scope=\"col\">Density<br><small>(inhabitants/km<sup>2</sup>)</small>\n",
      "</th>\n",
      "<th scope=\"col\">Population<br><small>(millions)</small>\n",
      "</th>\n",
      "<th scope=\"col\">Most populous country\n",
      "</th>\n",
      "<th scope=\"col\">Most populous city (metropolitan area)\n",
      "</th></tr>\n",
      "<tr>\n",
      "<td>Asia\n",
      "</td>\n",
      "<td style=\"text-align:right\">104.1\n",
      "</td>\n",
      "<td style=\"text-align:right\">4,641\n",
      "</td>\n",
      "<td data-sort-value=\"14118e5\">1,418,459,382 – <b><span class=\"flagicon\"><img alt=\"\" src=\"//upload.wikimedia.org/wikipedia/en/thumb/4/41/Flag_of_India.svg/23px-Flag_of_India.svg.png\" decoding=\"async\" width=\"23\" height=\"15\" class=\"thumbborder\" srcset=\"//upload.wikimedia.org/wikipedia/en/thumb/4/41/Flag_of_India.svg/35px-Flag_of_India.svg.png 1.5x, //upload.wikimedia.org/wikipedia/en/thumb/4/41/Flag_of_India.svg/45px-Flag_of_India.svg.png 2x\" data-file-width=\"1350\" data-file-height=\"900\"> </span><a href=\"/wiki/India\" title=\"India\">India</a></b>\n",
      "</td>\n",
      "<td data-sort-value=\"135e5\">13,515,000 – <span class=\"flagicon\"><a href=\"/wiki/Japan\" title=\"Japan\"><img alt=\"Japan\" src=\"//upload.wikimedia.org/wikipedia/en/thumb/9/9e/Flag_of_Japan.svg/23px-Flag_of_Japan.svg.png\" decoding=\"async\" width=\"23\" height=\"15\" class=\"thumbborder\" srcset=\"//upload.wikimedia.org/wikipedia/en/thumb/9/9e/Flag_of_Japan.svg/35px-Flag_of_Japan.svg.png 1.5x, //upload.wikimedia.org/wikipedia/en/thumb/9/9e/Flag_of_Japan.svg/45px-Flag_of_Japan.svg.png 2x\" data-file-width=\"900\" data-file-height=\"600\"></a></span> <a href=\"/wiki/Tokyo\" title=\"Tokyo\">Tokyo Metropolis</a><br>(37,400,000 – <span class=\"flagicon\"><a href=\"/wiki/Japan\" title=\"Japan\"><img alt=\"Japan\" src=\"//upload.wikimedia.org/wikipedia/en/thumb/9/9e/Flag_of_Japan.svg/23px-Flag_of_Japan.svg.png\" decoding=\"async\" width=\"23\" height=\"15\" class=\"thumbborder\" srcset=\"//upload.wikimedia.org/wikipedia/en/thumb/9/9e/Flag_of_Japan.svg/35px-Flag_of_Japan.svg.png 1.5x, //upload.wikimedia.org/wikipedia/en/thumb/9/9e/Flag_of_Japan.svg/45px-Flag_of_Japan.svg.png 2x\" data-file-width=\"900\" data-file-height=\"600\"></a></span> <a href=\"/wiki/Greater_Tokyo_Area\" title=\"Greater Tokyo Area\">Greater Tokyo Area</a>)\n",
      "</td></tr>\n",
      "<tr>\n",
      "<td>Africa\n",
      "</td>\n",
      "<td style=\"text-align:right\">44.4\n",
      "</td>\n",
      "<td style=\"text-align:right\">1,340\n",
      "</td>\n",
      "<td data-sort-value=\"211e6\"><span style=\"visibility:hidden;color:transparent;\">0,</span>211,401,000 – <span class=\"flagicon\"><img alt=\"\" src=\"//upload.wikimedia.org/wikipedia/commons/thumb/7/79/Flag_of_Nigeria.svg/23px-Flag_of_Nigeria.svg.png\" decoding=\"async\" width=\"23\" height=\"12\" class=\"thumbborder\" srcset=\"//upload.wikimedia.org/wikipedia/commons/thumb/7/79/Flag_of_Nigeria.svg/35px-Flag_of_Nigeria.svg.png 1.5x, //upload.wikimedia.org/wikipedia/commons/thumb/7/79/Flag_of_Nigeria.svg/46px-Flag_of_Nigeria.svg.png 2x\" data-file-width=\"1200\" data-file-height=\"600\"> </span><a href=\"/wiki/Nigeria\" title=\"Nigeria\">Nigeria</a>\n",
      "</td>\n",
      "<td data-sort-value=\"95e5\"><span style=\"visibility:hidden;color:transparent;\">0</span>9,500,000 – <span class=\"flagicon\"><a href=\"/wiki/Egypt\" title=\"Egypt\"><img alt=\"Egypt\" src=\"//upload.wikimedia.org/wikipedia/commons/thumb/f/fe/Flag_of_Egypt.svg/23px-Flag_of_Egypt.svg.png\" decoding=\"async\" width=\"23\" height=\"15\" class=\"thumbborder\" srcset=\"//upload.wikimedia.org/wikipedia/commons/thumb/f/fe/Flag_of_Egypt.svg/35px-Flag_of_Egypt.svg.png 1.5x, //upload.wikimedia.org/wikipedia/commons/thumb/f/fe/Flag_of_Egypt.svg/45px-Flag_of_Egypt.svg.png 2x\" data-file-width=\"900\" data-file-height=\"600\"></a></span> <a href=\"/wiki/Cairo\" title=\"Cairo\">Cairo</a><br>(20,076,000 – <span class=\"flagicon\"><a href=\"/wiki/Egypt\" title=\"Egypt\"><img alt=\"Egypt\" src=\"//upload.wikimedia.org/wikipedia/commons/thumb/f/fe/Flag_of_Egypt.svg/23px-Flag_of_Egypt.svg.png\" decoding=\"async\" width=\"23\" height=\"15\" class=\"thumbborder\" srcset=\"//upload.wikimedia.org/wikipedia/commons/thumb/f/fe/Flag_of_Egypt.svg/35px-Flag_of_Egypt.svg.png 1.5x, //upload.wikimedia.org/wikipedia/commons/thumb/f/fe/Flag_of_Egypt.svg/45px-Flag_of_Egypt.svg.png 2x\" data-file-width=\"900\" data-file-height=\"600\"></a></span> <a href=\"/wiki/Greater_Cairo\" title=\"Greater Cairo\">Greater Cairo</a>)\n",
      "</td></tr>\n",
      "<tr>\n",
      "<td>Europe\n",
      "</td>\n",
      "<td style=\"text-align:right\">73.4\n",
      "</td>\n",
      "<td style=\"text-align:right\">747\n",
      "</td>\n",
      "<td data-sort-value=\"146e6\"><span style=\"visibility:hidden;color:transparent;\">0,</span>146,171,000 – <span class=\"flagicon\"><img alt=\"\" src=\"//upload.wikimedia.org/wikipedia/en/thumb/f/f3/Flag_of_Russia.svg/23px-Flag_of_Russia.svg.png\" decoding=\"async\" width=\"23\" height=\"15\" class=\"thumbborder\" srcset=\"//upload.wikimedia.org/wikipedia/en/thumb/f/f3/Flag_of_Russia.svg/35px-Flag_of_Russia.svg.png 1.5x, //upload.wikimedia.org/wikipedia/en/thumb/f/f3/Flag_of_Russia.svg/45px-Flag_of_Russia.svg.png 2x\" data-file-width=\"900\" data-file-height=\"600\"> </span><a href=\"/wiki/Russia\" title=\"Russia\">Russia</a>, approx. <a href=\"/wiki/European_Russia\" title=\"European Russia\">110 million in Europe</a>\n",
      "</td>\n",
      "<td data-sort-value=\"132e5\">13,200,000 – <span class=\"flagicon\"><a href=\"/wiki/Russia\" title=\"Russia\"><img alt=\"Russia\" src=\"//upload.wikimedia.org/wikipedia/en/thumb/f/f3/Flag_of_Russia.svg/23px-Flag_of_Russia.svg.png\" decoding=\"async\" width=\"23\" height=\"15\" class=\"thumbborder\" srcset=\"//upload.wikimedia.org/wikipedia/en/thumb/f/f3/Flag_of_Russia.svg/35px-Flag_of_Russia.svg.png 1.5x, //upload.wikimedia.org/wikipedia/en/thumb/f/f3/Flag_of_Russia.svg/45px-Flag_of_Russia.svg.png 2x\" data-file-width=\"900\" data-file-height=\"600\"></a></span> <a href=\"/wiki/Moscow\" title=\"Moscow\">Moscow</a><br>(20,004,000 – <span class=\"flagicon\"><a href=\"/wiki/Russia\" title=\"Russia\"><img alt=\"Russia\" src=\"//upload.wikimedia.org/wikipedia/en/thumb/f/f3/Flag_of_Russia.svg/23px-Flag_of_Russia.svg.png\" decoding=\"async\" width=\"23\" height=\"15\" class=\"thumbborder\" srcset=\"//upload.wikimedia.org/wikipedia/en/thumb/f/f3/Flag_of_Russia.svg/35px-Flag_of_Russia.svg.png 1.5x, //upload.wikimedia.org/wikipedia/en/thumb/f/f3/Flag_of_Russia.svg/45px-Flag_of_Russia.svg.png 2x\" data-file-width=\"900\" data-file-height=\"600\"></a></span> <a href=\"/wiki/Moscow_metropolitan_area\" title=\"Moscow metropolitan area\">Moscow metropolitan area</a>)\n",
      "</td></tr>\n",
      "<tr>\n",
      "<td><a href=\"/wiki/Latin_America\" title=\"Latin America\">Latin America</a>\n",
      "</td>\n",
      "<td style=\"text-align:right\">24.1\n",
      "</td>\n",
      "<td style=\"text-align:right\">653\n",
      "</td>\n",
      "<td data-sort-value=\"214e6\"><span style=\"visibility:hidden;color:transparent;\">0,</span>214,103,000 – <span class=\"flagicon\"><img alt=\"\" src=\"//upload.wikimedia.org/wikipedia/en/thumb/0/05/Flag_of_Brazil.svg/22px-Flag_of_Brazil.svg.png\" decoding=\"async\" width=\"22\" height=\"15\" class=\"thumbborder\" srcset=\"//upload.wikimedia.org/wikipedia/en/thumb/0/05/Flag_of_Brazil.svg/33px-Flag_of_Brazil.svg.png 1.5x, //upload.wikimedia.org/wikipedia/en/thumb/0/05/Flag_of_Brazil.svg/43px-Flag_of_Brazil.svg.png 2x\" data-file-width=\"720\" data-file-height=\"504\"> </span><a href=\"/wiki/Brazil\" title=\"Brazil\">Brazil</a>\n",
      "</td>\n",
      "<td data-sort-value=\"122e5\">12,252,000 – <span class=\"flagicon\"><a href=\"/wiki/Brazil\" title=\"Brazil\"><img alt=\"Brazil\" src=\"//upload.wikimedia.org/wikipedia/en/thumb/0/05/Flag_of_Brazil.svg/22px-Flag_of_Brazil.svg.png\" decoding=\"async\" width=\"22\" height=\"15\" class=\"thumbborder\" srcset=\"//upload.wikimedia.org/wikipedia/en/thumb/0/05/Flag_of_Brazil.svg/33px-Flag_of_Brazil.svg.png 1.5x, //upload.wikimedia.org/wikipedia/en/thumb/0/05/Flag_of_Brazil.svg/43px-Flag_of_Brazil.svg.png 2x\" data-file-width=\"720\" data-file-height=\"504\"></a></span> <a href=\"/wiki/S%C3%A3o_Paulo\" title=\"São Paulo\">São Paulo City</a><br>(21,650,000 – <span class=\"flagicon\"><a href=\"/wiki/Brazil\" title=\"Brazil\"><img alt=\"Brazil\" src=\"//upload.wikimedia.org/wikipedia/en/thumb/0/05/Flag_of_Brazil.svg/22px-Flag_of_Brazil.svg.png\" decoding=\"async\" width=\"22\" height=\"15\" class=\"thumbborder\" srcset=\"//upload.wikimedia.org/wikipedia/en/thumb/0/05/Flag_of_Brazil.svg/33px-Flag_of_Brazil.svg.png 1.5x, //upload.wikimedia.org/wikipedia/en/thumb/0/05/Flag_of_Brazil.svg/43px-Flag_of_Brazil.svg.png 2x\" data-file-width=\"720\" data-file-height=\"504\"></a></span> <a href=\"/wiki/Greater_S%C3%A3o_Paulo\" title=\"Greater São Paulo\">São Paulo Metro Area</a>)\n",
      "</td></tr>\n",
      "<tr>\n",
      "<td><a href=\"/wiki/Northern_America\" title=\"Northern America\">Northern America</a><sup id=\"cite_ref-90\" class=\"reference\"><a href=\"#cite_note-90\">[note 1]</a></sup>\n",
      "</td>\n",
      "<td style=\"text-align:right\">14.9\n",
      "</td>\n",
      "<td style=\"text-align:right\">368\n",
      "</td>\n",
      "<td data-sort-value=\"332e6\"><span style=\"visibility:hidden;color:transparent;\">0,</span>332,909,000 – <span class=\"flagicon\"><img alt=\"\" src=\"//upload.wikimedia.org/wikipedia/en/thumb/a/a4/Flag_of_the_United_States.svg/23px-Flag_of_the_United_States.svg.png\" decoding=\"async\" width=\"23\" height=\"12\" class=\"thumbborder\" srcset=\"//upload.wikimedia.org/wikipedia/en/thumb/a/a4/Flag_of_the_United_States.svg/35px-Flag_of_the_United_States.svg.png 1.5x, //upload.wikimedia.org/wikipedia/en/thumb/a/a4/Flag_of_the_United_States.svg/46px-Flag_of_the_United_States.svg.png 2x\" data-file-width=\"1235\" data-file-height=\"650\"> </span><a href=\"/wiki/United_States\" title=\"United States\">United States</a>\n",
      "</td>\n",
      "<td data-sort-value=\"88e5\"><span style=\"visibility:hidden;color:transparent;\">0</span>8,804,000 – <span class=\"flagicon\"><a href=\"/wiki/United_States\" title=\"United States\"><img alt=\"United States\" src=\"//upload.wikimedia.org/wikipedia/en/thumb/a/a4/Flag_of_the_United_States.svg/23px-Flag_of_the_United_States.svg.png\" decoding=\"async\" width=\"23\" height=\"12\" class=\"thumbborder\" srcset=\"//upload.wikimedia.org/wikipedia/en/thumb/a/a4/Flag_of_the_United_States.svg/35px-Flag_of_the_United_States.svg.png 1.5x, //upload.wikimedia.org/wikipedia/en/thumb/a/a4/Flag_of_the_United_States.svg/46px-Flag_of_the_United_States.svg.png 2x\" data-file-width=\"1235\" data-file-height=\"650\"></a></span> <a href=\"/wiki/New_York_City\" title=\"New York City\">New York City</a><br>(23,582,649 – <span class=\"flagicon\"><a href=\"/wiki/United_States\" title=\"United States\"><img alt=\"United States\" src=\"//upload.wikimedia.org/wikipedia/en/thumb/a/a4/Flag_of_the_United_States.svg/23px-Flag_of_the_United_States.svg.png\" decoding=\"async\" width=\"23\" height=\"12\" class=\"thumbborder\" srcset=\"//upload.wikimedia.org/wikipedia/en/thumb/a/a4/Flag_of_the_United_States.svg/35px-Flag_of_the_United_States.svg.png 1.5x, //upload.wikimedia.org/wikipedia/en/thumb/a/a4/Flag_of_the_United_States.svg/46px-Flag_of_the_United_States.svg.png 2x\" data-file-width=\"1235\" data-file-height=\"650\"></a></span> <a href=\"/wiki/New_York_metropolitan_area\" title=\"New York metropolitan area\">New York metropolitan area</a><sup id=\"cite_ref-CityPopulation.de_91-0\" class=\"reference\"><a href=\"#cite_note-CityPopulation.de-91\">[90]</a></sup>)\n",
      "</td></tr>\n",
      "<tr>\n",
      "<td><a href=\"/wiki/Oceania\" title=\"Oceania\">Oceania</a>\n",
      "</td>\n",
      "<td style=\"text-align:right\">5\n",
      "</td>\n",
      "<td style=\"text-align:right\">42\n",
      "</td>\n",
      "<td data-sort-value=\"25e6\"><span style=\"visibility:hidden;color:transparent;\">0,0</span>25,917,000 – <span class=\"flagicon\"><img alt=\"\" src=\"//upload.wikimedia.org/wikipedia/commons/thumb/8/88/Flag_of_Australia_%28converted%29.svg/23px-Flag_of_Australia_%28converted%29.svg.png\" decoding=\"async\" width=\"23\" height=\"12\" class=\"thumbborder\" srcset=\"//upload.wikimedia.org/wikipedia/commons/thumb/8/88/Flag_of_Australia_%28converted%29.svg/35px-Flag_of_Australia_%28converted%29.svg.png 1.5x, //upload.wikimedia.org/wikipedia/commons/thumb/8/88/Flag_of_Australia_%28converted%29.svg/46px-Flag_of_Australia_%28converted%29.svg.png 2x\" data-file-width=\"1280\" data-file-height=\"640\"> </span><a href=\"/wiki/Australia\" title=\"Australia\">Australia</a>\n",
      "</td>\n",
      "<td data-sort-value=\"54e5\"><span style=\"visibility:hidden;color:transparent;\">0</span>5,367,000 – <span class=\"flagicon\"><a href=\"/wiki/Australia\" title=\"Australia\"><img alt=\"Australia\" src=\"//upload.wikimedia.org/wikipedia/commons/thumb/8/88/Flag_of_Australia_%28converted%29.svg/23px-Flag_of_Australia_%28converted%29.svg.png\" decoding=\"async\" width=\"23\" height=\"12\" class=\"thumbborder\" srcset=\"//upload.wikimedia.org/wikipedia/commons/thumb/8/88/Flag_of_Australia_%28converted%29.svg/35px-Flag_of_Australia_%28converted%29.svg.png 1.5x, //upload.wikimedia.org/wikipedia/commons/thumb/8/88/Flag_of_Australia_%28converted%29.svg/46px-Flag_of_Australia_%28converted%29.svg.png 2x\" data-file-width=\"1280\" data-file-height=\"640\"></a></span> <a href=\"/wiki/Sydney\" title=\"Sydney\">Sydney</a>\n",
      "</td></tr>\n",
      "<tr>\n",
      "<td><a href=\"/wiki/Antarctica\" title=\"Antarctica\">Antarctica</a>\n",
      "</td>\n",
      "<td style=\"text-align:right\">~0\n",
      "</td>\n",
      "<td style=\"text-align:right\">0.004<sup id=\"cite_ref-AntarcticCIA_89-1\" class=\"reference\"><a href=\"#cite_note-AntarcticCIA-89\">[89]</a></sup>\n",
      "</td>\n",
      "<td data-sort-value=\"0\">N/A<sup id=\"cite_ref-92\" class=\"reference\"><a href=\"#cite_note-92\">[note 2]</a></sup>\n",
      "</td>\n",
      "<td data-sort-value=\"1258\"><span style=\"visibility:hidden;color:transparent;\">00,00</span>1,258 – <span class=\"flagicon\"><a href=\"/wiki/Antarctica\" title=\"Antarctica\"><img alt=\"Antarctica\" src=\"//upload.wikimedia.org/wikipedia/commons/thumb/b/bb/Proposed_flag_of_Antarctica_%28Graham_Bartram%29.svg/23px-Proposed_flag_of_Antarctica_%28Graham_Bartram%29.svg.png\" decoding=\"async\" width=\"23\" height=\"15\" srcset=\"//upload.wikimedia.org/wikipedia/commons/thumb/b/bb/Proposed_flag_of_Antarctica_%28Graham_Bartram%29.svg/35px-Proposed_flag_of_Antarctica_%28Graham_Bartram%29.svg.png 1.5x, //upload.wikimedia.org/wikipedia/commons/thumb/b/bb/Proposed_flag_of_Antarctica_%28Graham_Bartram%29.svg/45px-Proposed_flag_of_Antarctica_%28Graham_Bartram%29.svg.png 2x\" data-file-width=\"900\" data-file-height=\"600\"></a></span> <a href=\"/wiki/McMurdo_Station\" title=\"McMurdo Station\">McMurdo Station</a>\n",
      "</td></tr></tbody></table>\n"
     ]
    }
   ],
   "source": [
    "print(wikitables[1].extract())"
   ]
  },
  {
   "cell_type": "code",
   "execution_count": 11,
   "metadata": {},
   "outputs": [
    {
     "data": {
      "text/plain": [
       "'Population by region (2020 estimates)\\n'"
      ]
     },
     "execution_count": 11,
     "metadata": {},
     "output_type": "execute_result"
    }
   ],
   "source": [
    "# get the caption\n",
    "wikitables[1].xpath('./caption/text()').get()"
   ]
  },
  {
   "cell_type": "code",
   "execution_count": 12,
   "metadata": {
    "scrolled": true
   },
   "outputs": [
    {
     "name": "stdout",
     "output_type": "stream",
     "text": [
      "Number of rows (including header): 8\n"
     ]
    }
   ],
   "source": [
    "# get the rows\n",
    "rows = wikitables[1].xpath('./tbody//tr')\n",
    "print(f'Number of rows (including header): {len(rows)}')"
   ]
  },
  {
   "cell_type": "code",
   "execution_count": 14,
   "metadata": {},
   "outputs": [],
   "source": [
    "def parse_row(row:Selector) -> List[str]:\n",
    "    '''\n",
    "    Parses a html row into a list of individual elements\n",
    "    '''\n",
    "    cells = row.xpath('.//th | .//td')\n",
    "    row_data = []\n",
    "    \n",
    "    for cell in cells:\n",
    "        cell_text = cell.xpath('normalize-space(.)').get()\n",
    "        cell_text = re.sub(r'<.*?>', ' ', cell_text)  # Remove remaining HTML tags\n",
    "        # if there are br tags, there will be some binary characters\n",
    "        cell_text = cell_text.replace('\\xa0', '')  # Remove \\xa0 characters\n",
    "        row_data.append(cell_text)\n",
    "    \n",
    "    return row_data"
   ]
  },
  {
   "cell_type": "code",
   "execution_count": 15,
   "metadata": {},
   "outputs": [
    {
     "data": {
      "text/plain": [
       "['Region',\n",
       " 'Density(inhabitants/km2)',\n",
       " 'Population(millions)',\n",
       " 'Most populous country',\n",
       " 'Most populous city (metropolitan area)']"
      ]
     },
     "execution_count": 15,
     "metadata": {},
     "output_type": "execute_result"
    }
   ],
   "source": [
    "header = parse_row(rows[0])\n",
    "header"
   ]
  },
  {
   "cell_type": "code",
   "execution_count": 16,
   "metadata": {
    "scrolled": true
   },
   "outputs": [
    {
     "data": {
      "text/plain": [
       "[['Asia',\n",
       "  '104.1',\n",
       "  '4,641',\n",
       "  '1,418,459,382 – India',\n",
       "  '13,515,000 – Tokyo Metropolis(37,400,000 – Greater Tokyo Area)'],\n",
       " ['Africa',\n",
       "  '44.4',\n",
       "  '1,340',\n",
       "  '0,211,401,000 – Nigeria',\n",
       "  '09,500,000 – Cairo(20,076,000 – Greater Cairo)'],\n",
       " ['Europe',\n",
       "  '73.4',\n",
       "  '747',\n",
       "  '0,146,171,000 – Russia, approx. 110million in Europe',\n",
       "  '13,200,000 – Moscow(20,004,000 – Moscow metropolitan area)'],\n",
       " ['Latin America',\n",
       "  '24.1',\n",
       "  '653',\n",
       "  '0,214,103,000 – Brazil',\n",
       "  '12,252,000 – São Paulo City(21,650,000 – São Paulo Metro Area)'],\n",
       " ['Northern America[note 1]',\n",
       "  '14.9',\n",
       "  '368',\n",
       "  '0,332,909,000 – United States',\n",
       "  '08,804,000 – New York City(23,582,649 – New York metropolitan area[90])'],\n",
       " ['Oceania', '5', '42', '0,025,917,000 – Australia', '05,367,000 – Sydney'],\n",
       " ['Antarctica',\n",
       "  '~0',\n",
       "  '0.004[89]',\n",
       "  'N/A[note 2]',\n",
       "  '00,001,258 – McMurdo Station']]"
      ]
     },
     "execution_count": 16,
     "metadata": {},
     "output_type": "execute_result"
    }
   ],
   "source": [
    "table_data = [parse_row(row) for row in rows[1:]]\n",
    "table_data"
   ]
  },
  {
   "cell_type": "code",
   "execution_count": 17,
   "metadata": {},
   "outputs": [
    {
     "data": {
      "text/html": [
       "<div>\n",
       "<style scoped>\n",
       "    .dataframe tbody tr th:only-of-type {\n",
       "        vertical-align: middle;\n",
       "    }\n",
       "\n",
       "    .dataframe tbody tr th {\n",
       "        vertical-align: top;\n",
       "    }\n",
       "\n",
       "    .dataframe thead th {\n",
       "        text-align: right;\n",
       "    }\n",
       "</style>\n",
       "<table border=\"1\" class=\"dataframe\">\n",
       "  <thead>\n",
       "    <tr style=\"text-align: right;\">\n",
       "      <th></th>\n",
       "      <th>Region</th>\n",
       "      <th>Density(inhabitants/km2)</th>\n",
       "      <th>Population(millions)</th>\n",
       "      <th>Most populous country</th>\n",
       "      <th>Most populous city (metropolitan area)</th>\n",
       "    </tr>\n",
       "  </thead>\n",
       "  <tbody>\n",
       "    <tr>\n",
       "      <th>0</th>\n",
       "      <td>Asia</td>\n",
       "      <td>104.1</td>\n",
       "      <td>4,641</td>\n",
       "      <td>1,418,459,382 – India</td>\n",
       "      <td>13,515,000 – Tokyo Metropolis(37,400,000 – Gre...</td>\n",
       "    </tr>\n",
       "    <tr>\n",
       "      <th>1</th>\n",
       "      <td>Africa</td>\n",
       "      <td>44.4</td>\n",
       "      <td>1,340</td>\n",
       "      <td>0,211,401,000 – Nigeria</td>\n",
       "      <td>09,500,000 – Cairo(20,076,000 – Greater Cairo)</td>\n",
       "    </tr>\n",
       "    <tr>\n",
       "      <th>2</th>\n",
       "      <td>Europe</td>\n",
       "      <td>73.4</td>\n",
       "      <td>747</td>\n",
       "      <td>0,146,171,000 – Russia, approx. 110million in ...</td>\n",
       "      <td>13,200,000 – Moscow(20,004,000 – Moscow metrop...</td>\n",
       "    </tr>\n",
       "    <tr>\n",
       "      <th>3</th>\n",
       "      <td>Latin America</td>\n",
       "      <td>24.1</td>\n",
       "      <td>653</td>\n",
       "      <td>0,214,103,000 – Brazil</td>\n",
       "      <td>12,252,000 – São Paulo City(21,650,000 – São P...</td>\n",
       "    </tr>\n",
       "    <tr>\n",
       "      <th>4</th>\n",
       "      <td>Northern America[note 1]</td>\n",
       "      <td>14.9</td>\n",
       "      <td>368</td>\n",
       "      <td>0,332,909,000 – United States</td>\n",
       "      <td>08,804,000 – New York City(23,582,649 – New Yo...</td>\n",
       "    </tr>\n",
       "    <tr>\n",
       "      <th>5</th>\n",
       "      <td>Oceania</td>\n",
       "      <td>5</td>\n",
       "      <td>42</td>\n",
       "      <td>0,025,917,000 – Australia</td>\n",
       "      <td>05,367,000 – Sydney</td>\n",
       "    </tr>\n",
       "    <tr>\n",
       "      <th>6</th>\n",
       "      <td>Antarctica</td>\n",
       "      <td>~0</td>\n",
       "      <td>0.004[89]</td>\n",
       "      <td>N/A[note 2]</td>\n",
       "      <td>00,001,258 – McMurdo Station</td>\n",
       "    </tr>\n",
       "  </tbody>\n",
       "</table>\n",
       "</div>"
      ],
      "text/plain": [
       "                     Region Density(inhabitants/km2) Population(millions)   \n",
       "0                      Asia                    104.1                4,641  \\\n",
       "1                    Africa                     44.4                1,340   \n",
       "2                    Europe                     73.4                  747   \n",
       "3             Latin America                     24.1                  653   \n",
       "4  Northern America[note 1]                     14.9                  368   \n",
       "5                   Oceania                        5                   42   \n",
       "6                Antarctica                       ~0            0.004[89]   \n",
       "\n",
       "                               Most populous country   \n",
       "0                              1,418,459,382 – India  \\\n",
       "1                            0,211,401,000 – Nigeria   \n",
       "2  0,146,171,000 – Russia, approx. 110million in ...   \n",
       "3                             0,214,103,000 – Brazil   \n",
       "4                      0,332,909,000 – United States   \n",
       "5                          0,025,917,000 – Australia   \n",
       "6                                        N/A[note 2]   \n",
       "\n",
       "              Most populous city (metropolitan area)  \n",
       "0  13,515,000 – Tokyo Metropolis(37,400,000 – Gre...  \n",
       "1     09,500,000 – Cairo(20,076,000 – Greater Cairo)  \n",
       "2  13,200,000 – Moscow(20,004,000 – Moscow metrop...  \n",
       "3  12,252,000 – São Paulo City(21,650,000 – São P...  \n",
       "4  08,804,000 – New York City(23,582,649 – New Yo...  \n",
       "5                                05,367,000 – Sydney  \n",
       "6                       00,001,258 – McMurdo Station  "
      ]
     },
     "execution_count": 17,
     "metadata": {},
     "output_type": "execute_result"
    }
   ],
   "source": [
    "# convert table into a data frame\n",
    "pop_by_region_df = pd.DataFrame(table_data,columns=header)\n",
    "pop_by_region_df"
   ]
  },
  {
   "cell_type": "markdown",
   "metadata": {},
   "source": [
    "The cell below contains a function to parse the entire table"
   ]
  },
  {
   "cell_type": "code",
   "execution_count": 18,
   "metadata": {},
   "outputs": [],
   "source": [
    "def parse_table_as_df(table_sel:Selector,header:bool=True) -> pd.DataFrame:\n",
    "    \n",
    "    # extract rows\n",
    "    rows = table_sel.xpath('./tbody//tr')\n",
    "    \n",
    "    # parse header and the remaining rows\n",
    "    columns = None\n",
    "    start_row = 0\n",
    "    if header:\n",
    "        columns = parse_row(rows[0])\n",
    "        start_row += 1\n",
    "        \n",
    "    table_data = [parse_row(row) for row in rows[start_row:]]\n",
    "    \n",
    "    # return data frame\n",
    "    return pd.DataFrame(table_data,columns=columns)"
   ]
  },
  {
   "cell_type": "code",
   "execution_count": 19,
   "metadata": {},
   "outputs": [
    {
     "data": {
      "text/html": [
       "<div>\n",
       "<style scoped>\n",
       "    .dataframe tbody tr th:only-of-type {\n",
       "        vertical-align: middle;\n",
       "    }\n",
       "\n",
       "    .dataframe tbody tr th {\n",
       "        vertical-align: top;\n",
       "    }\n",
       "\n",
       "    .dataframe thead th {\n",
       "        text-align: right;\n",
       "    }\n",
       "</style>\n",
       "<table border=\"1\" class=\"dataframe\">\n",
       "  <thead>\n",
       "    <tr style=\"text-align: right;\">\n",
       "      <th></th>\n",
       "      <th>Rank</th>\n",
       "      <th>Country / Dependency</th>\n",
       "      <th>Population</th>\n",
       "      <th>Percentage of the world</th>\n",
       "      <th>Date</th>\n",
       "      <th>Source (official or from the United Nations)</th>\n",
       "    </tr>\n",
       "  </thead>\n",
       "  <tbody>\n",
       "    <tr>\n",
       "      <th>0</th>\n",
       "      <td>1</td>\n",
       "      <td>India</td>\n",
       "      <td>1,425,775,850</td>\n",
       "      <td>17.8%</td>\n",
       "      <td>14 Apr 2023</td>\n",
       "      <td>UN projection[91]</td>\n",
       "    </tr>\n",
       "    <tr>\n",
       "      <th>1</th>\n",
       "      <td>2</td>\n",
       "      <td>China</td>\n",
       "      <td>1,412,600,000</td>\n",
       "      <td>17.6%</td>\n",
       "      <td>31 Dec 2021</td>\n",
       "      <td>National annual estimate[92]</td>\n",
       "    </tr>\n",
       "    <tr>\n",
       "      <th>2</th>\n",
       "      <td>3</td>\n",
       "      <td>United States</td>\n",
       "      <td>334,753,588</td>\n",
       "      <td>4.17%</td>\n",
       "      <td>18 May 2023</td>\n",
       "      <td>National population clock[93]</td>\n",
       "    </tr>\n",
       "    <tr>\n",
       "      <th>3</th>\n",
       "      <td>4</td>\n",
       "      <td>Indonesia</td>\n",
       "      <td>275,773,800</td>\n",
       "      <td>3.43%</td>\n",
       "      <td>1 Jul 2022</td>\n",
       "      <td>National annual estimate[94]</td>\n",
       "    </tr>\n",
       "    <tr>\n",
       "      <th>4</th>\n",
       "      <td>5</td>\n",
       "      <td>Pakistan</td>\n",
       "      <td>229,488,994</td>\n",
       "      <td>2.86%</td>\n",
       "      <td>1 Jul 2022</td>\n",
       "      <td>UN projection[95]</td>\n",
       "    </tr>\n",
       "    <tr>\n",
       "      <th>5</th>\n",
       "      <td>6</td>\n",
       "      <td>Nigeria</td>\n",
       "      <td>216,746,934</td>\n",
       "      <td>2.70%</td>\n",
       "      <td>1 Jul 2022</td>\n",
       "      <td>UN projection[95]</td>\n",
       "    </tr>\n",
       "    <tr>\n",
       "      <th>6</th>\n",
       "      <td>7</td>\n",
       "      <td>Brazil</td>\n",
       "      <td>216,156,993</td>\n",
       "      <td>2.69%</td>\n",
       "      <td>18 May 2023</td>\n",
       "      <td>National population clock[96]</td>\n",
       "    </tr>\n",
       "    <tr>\n",
       "      <th>7</th>\n",
       "      <td>8</td>\n",
       "      <td>Bangladesh</td>\n",
       "      <td>168,220,000</td>\n",
       "      <td>2.09%</td>\n",
       "      <td>1 Jul 2020</td>\n",
       "      <td>Annual Population Estimate[97]</td>\n",
       "    </tr>\n",
       "    <tr>\n",
       "      <th>8</th>\n",
       "      <td>9</td>\n",
       "      <td>Russia</td>\n",
       "      <td>147,190,000</td>\n",
       "      <td>1.83%</td>\n",
       "      <td>1 Oct 2021</td>\n",
       "      <td>2021 preliminary census results[98]</td>\n",
       "    </tr>\n",
       "    <tr>\n",
       "      <th>9</th>\n",
       "      <td>10</td>\n",
       "      <td>Mexico</td>\n",
       "      <td>128,271,248</td>\n",
       "      <td>1.60%</td>\n",
       "      <td>31 Mar 2022</td>\n",
       "      <td></td>\n",
       "    </tr>\n",
       "  </tbody>\n",
       "</table>\n",
       "</div>"
      ],
      "text/plain": [
       "  Rank Country / Dependency     Population Percentage of the world   \n",
       "0    1                India  1,425,775,850                   17.8%  \\\n",
       "1    2                China  1,412,600,000                   17.6%   \n",
       "2    3        United States    334,753,588                   4.17%   \n",
       "3    4            Indonesia    275,773,800                   3.43%   \n",
       "4    5             Pakistan    229,488,994                   2.86%   \n",
       "5    6              Nigeria    216,746,934                   2.70%   \n",
       "6    7               Brazil    216,156,993                   2.69%   \n",
       "7    8           Bangladesh    168,220,000                   2.09%   \n",
       "8    9               Russia    147,190,000                   1.83%   \n",
       "9   10               Mexico    128,271,248                   1.60%   \n",
       "\n",
       "          Date Source (official or from the United Nations)  \n",
       "0  14 Apr 2023                            UN projection[91]  \n",
       "1  31 Dec 2021                 National annual estimate[92]  \n",
       "2  18 May 2023                National population clock[93]  \n",
       "3   1 Jul 2022                 National annual estimate[94]  \n",
       "4   1 Jul 2022                            UN projection[95]  \n",
       "5   1 Jul 2022                            UN projection[95]  \n",
       "6  18 May 2023                National population clock[96]  \n",
       "7   1 Jul 2020               Annual Population Estimate[97]  \n",
       "8   1 Oct 2021          2021 preliminary census results[98]  \n",
       "9  31 Mar 2022                                               "
      ]
     },
     "execution_count": 19,
     "metadata": {},
     "output_type": "execute_result"
    }
   ],
   "source": [
    "# pull the third wikitable\n",
    "parse_table_as_df(wikitables[2])"
   ]
  },
  {
   "cell_type": "markdown",
   "metadata": {},
   "source": [
    "## Case-study 2: Extracting alcohol related mortality stats from CDC"
   ]
  },
  {
   "cell_type": "code",
   "execution_count": 20,
   "metadata": {},
   "outputs": [],
   "source": [
    "url2 = 'https://www.cdc.gov/nchs/fastats/alcohol.htm'\n",
    "response = requests.get(url2)\n",
    "\n",
    "# Create a scrapy Selector from the response content\n",
    "selector = Selector(text=response.content)"
   ]
  },
  {
   "cell_type": "code",
   "execution_count": 21,
   "metadata": {},
   "outputs": [
    {
     "data": {
      "text/plain": [
       "[<Selector query='//div[@class=\"card mb-3\"]' data='<div class=\"card mb-3\"><div class=\"ca...'>,\n",
       " <Selector query='//div[@class=\"card mb-3\"]' data='<div class=\"card mb-3\"><div class=\"ca...'>,\n",
       " <Selector query='//div[@class=\"card mb-3\"]' data='<div class=\"card mb-3\"><div class=\"ca...'>]"
      ]
     },
     "execution_count": 21,
     "metadata": {},
     "output_type": "execute_result"
    }
   ],
   "source": [
    "div_sel_list = selector.xpath('//div[@class=\"card mb-3\"]')\n",
    "div_sel_list"
   ]
  },
  {
   "cell_type": "code",
   "execution_count": 22,
   "metadata": {},
   "outputs": [
    {
     "name": "stdout",
     "output_type": "stream",
     "text": [
      "<div class=\"card mb-3\"><div class=\"card-header h4 bg-primary\">Mortality</div><div class=\"card-body bg-white\"><ul>\n",
      "<li>Number of alcoholic liver disease deaths: 33,098</li>\n",
      "<li>Alcoholic liver disease deaths per 100,000 population: 10.0</li>\n",
      "</ul>\n",
      "<p>Source: <a href=\"https://wonder.cdc.gov/controller/saved/D158/D321F155\">National Vital Statistics System – Mortality Data (2021) via CDC WONDER</a></p>\n",
      "<ul>\n",
      "<li>Number of alcohol-induced deaths, excluding accidents and homicides: 54,258</li>\n",
      "<li>Alcohol-induced deaths, excluding accidents and homicides per 100,000 population: 16.3</li>\n",
      "</ul>\n",
      "<p>Source: <a href=\"https://wonder.cdc.gov/controller/saved/D158/D321F156\">National Vital Statistics System – Mortality Data (2021) via CDC WONDER </a></p>\n",
      "</div></div>\n"
     ]
    }
   ],
   "source": [
    "print(div_sel_list[1].extract())"
   ]
  },
  {
   "cell_type": "code",
   "execution_count": 23,
   "metadata": {},
   "outputs": [
    {
     "name": "stdout",
     "output_type": "stream",
     "text": [
      "['<div class=\"card mb-3\"><div class=\"card-header h4 bg-primary\">Mortality</div><div class=\"card-body bg-white\"><ul>\\n<li>Number of alcoholic liver disease deaths: 33,098</li>\\n<li>Alcoholic liver disease deaths per 100,000 population: 10.0</li>\\n</ul>\\n<p>Source: <a href=\"https://wonder.cdc.gov/controller/saved/D158/D321F155\">National Vital Statistics System – Mortality Data (2021) via CDC WONDER</a></p>\\n<ul>\\n<li>Number of alcohol-induced deaths, excluding accidents and homicides: 54,258</li>\\n<li>Alcohol-induced deaths, excluding accidents and homicides per 100,000 population: 16.3</li>\\n</ul>\\n<p>Source: <a href=\"https://wonder.cdc.gov/controller/saved/D158/D321F156\">National Vital Statistics System – Mortality Data (2021) via CDC WONDER </a></p>\\n</div></div>']\n"
     ]
    }
   ],
   "source": [
    "div_sel = selector.xpath('//div[@class=\"card mb-3\" and div[1][text()=\"Mortality\"]]')\n",
    "print(div_sel.extract())"
   ]
  },
  {
   "cell_type": "code",
   "execution_count": 24,
   "metadata": {},
   "outputs": [
    {
     "data": {
      "text/plain": [
       "[<Selector query='.//li/text()' data='Number of alcoholic liver disease dea...'>,\n",
       " <Selector query='.//li/text()' data='Alcoholic liver disease deaths per 10...'>,\n",
       " <Selector query='.//li/text()' data='Number of alcohol-induced deaths, exc...'>,\n",
       " <Selector query='.//li/text()' data='Alcohol-induced deaths, excluding acc...'>]"
      ]
     },
     "execution_count": 24,
     "metadata": {},
     "output_type": "execute_result"
    }
   ],
   "source": [
    "list_sel = div_sel.xpath('.//li/text()')\n",
    "list_sel"
   ]
  },
  {
   "cell_type": "code",
   "execution_count": 25,
   "metadata": {},
   "outputs": [
    {
     "data": {
      "text/plain": [
       "['Number of alcoholic liver disease deaths: 33,098',\n",
       " 'Alcoholic liver disease deaths per 100,000 population: 10.0',\n",
       " 'Number of alcohol-induced deaths, excluding accidents and homicides: 54,258',\n",
       " 'Alcohol-induced deaths, excluding accidents and homicides per 100,000 population: 16.3']"
      ]
     },
     "execution_count": 25,
     "metadata": {},
     "output_type": "execute_result"
    }
   ],
   "source": [
    "list_sel.getall()"
   ]
  },
  {
   "cell_type": "code",
   "execution_count": 26,
   "metadata": {},
   "outputs": [
    {
     "data": {
      "text/plain": [
       "'Number of alcoholic liver disease deaths: 33,098'"
      ]
     },
     "execution_count": 26,
     "metadata": {},
     "output_type": "execute_result"
    }
   ],
   "source": [
    "list_sel.get()"
   ]
  },
  {
   "cell_type": "code",
   "execution_count": null,
   "metadata": {},
   "outputs": [],
   "source": []
  }
 ],
 "metadata": {
  "kernelspec": {
   "display_name": "Python 3 (ipykernel)",
   "language": "python",
   "name": "python3"
  },
  "language_info": {
   "codemirror_mode": {
    "name": "ipython",
    "version": 3
   },
   "file_extension": ".py",
   "mimetype": "text/x-python",
   "name": "python",
   "nbconvert_exporter": "python",
   "pygments_lexer": "ipython3",
   "version": "3.10.11"
  }
 },
 "nbformat": 4,
 "nbformat_minor": 2
}
